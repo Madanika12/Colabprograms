{
  "nbformat": 4,
  "nbformat_minor": 0,
  "metadata": {
    "colab": {
      "provenance": [],
      "authorship_tag": "ABX9TyPypruJT6jNW2eOwFh1nggH",
      "include_colab_link": true
    },
    "kernelspec": {
      "name": "python3",
      "display_name": "Python 3"
    },
    "language_info": {
      "name": "python"
    }
  },
  "cells": [
    {
      "cell_type": "markdown",
      "metadata": {
        "id": "view-in-github",
        "colab_type": "text"
      },
      "source": [
        "<a href=\"https://colab.research.google.com/github/Madanika12/Colabprograms/blob/main/SE_task_2.ipynb\" target=\"_parent\"><img src=\"https://colab.research.google.com/assets/colab-badge.svg\" alt=\"Open In Colab\"/></a>"
      ]
    },
    {
      "cell_type": "code",
      "execution_count": null,
      "metadata": {
        "colab": {
          "base_uri": "https://localhost:8080/"
        },
        "id": "FgJMs8XAwCoP",
        "outputId": "db835ec5-e47e-4450-87b1-2f5df663c2a4"
      },
      "outputs": [
        {
          "output_type": "stream",
          "name": "stdout",
          "text": [
            "Sum of 10 and 20 is 30\n"
          ]
        }
      ],
      "source": [
        "#1. Hardcoding Variables\n",
        "a = 10\n",
        "b = 20\n",
        "result = a + b\n",
        "print(f\"Sum of {a} and {b} is {result}\")\n"
      ]
    },
    {
      "cell_type": "code",
      "source": [
        "#2. Keyboard Input\n",
        "try:\n",
        "    x = int(input(\"Enter the first number: \"))\n",
        "    y = int(input(\"Enter the second number: \"))\n",
        "    result = x + y\n",
        "    print(f\"Sum of {x} and {y} is {result}\")\n",
        "except ValueError:\n",
        "    print(\"Invalid input. Please enter valid numbers.\")\n"
      ],
      "metadata": {
        "colab": {
          "base_uri": "https://localhost:8080/"
        },
        "id": "wCvJUxSswRM2",
        "outputId": "09313f71-3d66-43c4-c10b-f4cd06e3948e"
      },
      "execution_count": null,
      "outputs": [
        {
          "output_type": "stream",
          "name": "stdout",
          "text": [
            "Enter the first number: 12\n",
            "Enter the second number: 15\n",
            "Sum of 12 and 15 is 27\n"
          ]
        }
      ]
    },
    {
      "cell_type": "code",
      "source": [
        "#3. Read From File (Single Input)\n",
        "try:\n",
        "    with open(\"single_input.txt\", \"r\") as file:\n",
        "        number = int(file.read().strip())\n",
        "    print(f\"The number read from the file is {number}\")\n",
        "except FileNotFoundError:\n",
        "    print(\"File not found. Please ensure 'single_input.txt' exists.\")\n",
        "except ValueError:\n",
        "    print(\"File content is not a valid integer.\")\n"
      ],
      "metadata": {
        "colab": {
          "base_uri": "https://localhost:8080/"
        },
        "id": "tMk3eKrYwc35",
        "outputId": "a59b54a2-9357-42e6-f029-50d4387f184f"
      },
      "execution_count": null,
      "outputs": [
        {
          "output_type": "stream",
          "name": "stdout",
          "text": [
            "The number read from the file is 30\n"
          ]
        }
      ]
    },
    {
      "cell_type": "code",
      "source": [
        "#4. Read From File (Multiple Inputs)\n",
        "try:\n",
        "    with open(\"multiple_inputs.txt\", \"r\") as file:\n",
        "        numbers = [int(line.strip()) for line in file.readlines()]\n",
        "    print(f\"Numbers read from the file are: {numbers}\")\n",
        "    print(f\"Their sum is {sum(numbers)}\")\n",
        "except FileNotFoundError:\n",
        "    print(\"File not found. Please ensure 'multiple_inputs.txt' exists.\")\n",
        "except ValueError:\n",
        "    print(\"File contains invalid data. Please ensure all lines have integers.\")\n"
      ],
      "metadata": {
        "colab": {
          "base_uri": "https://localhost:8080/"
        },
        "id": "wcaxzYfBwk9J",
        "outputId": "41456cd4-2261-4dfc-99ac-1ef0fc290418"
      },
      "execution_count": null,
      "outputs": [
        {
          "output_type": "stream",
          "name": "stdout",
          "text": [
            "Numbers read from the file are: [10, 20, 30]\n",
            "Their sum is 60\n"
          ]
        }
      ]
    },
    {
      "cell_type": "code",
      "source": [
        "# Save versions as .py files\n",
        "versions = {\n",
        "    \"hardcoded.py\": \"\"\"\n",
        "a = 10\n",
        "b = 20\n",
        "result = a + b\n",
        "print(f\"Sum of {a} and {b} is {result}\")\n",
        "\"\"\",\n",
        "    \"keyboard_input.py\": \"\"\"\n",
        "try:\n",
        "    x = int(input(\"Enter the first number: \"))\n",
        "    y = int(input(\"Enter the second number: \"))\n",
        "    result = x + y\n",
        "    print(f\"Sum of {x} and {y} is {result}\")\n",
        "except ValueError:\n",
        "    print(\"Invalid input. Please enter valid numbers.\")\n",
        "\"\"\",\n",
        "    \"single_input.py\": \"\"\"\n",
        "try:\n",
        "    with open(\"single_input.txt\", \"r\") as file:\n",
        "        number = int(file.read().strip())\n",
        "    print(f\"The number read from the file is {number}\")\n",
        "except FileNotFoundError:\n",
        "    print(\"File not found. Please ensure 'single_input.txt' exists.\")\n",
        "except ValueError:\n",
        "    print(\"File content is not a valid integer.\")\n",
        "\"\"\",\n",
        "    \"multiple_inputs.py\": \"\"\"\n",
        "try:\n",
        "    with open(\"multiple_inputs.txt\", \"r\") as file:\n",
        "        numbers = [int(line.strip()) for line in file.readlines()]\n",
        "    print(f\"Numbers read from the file are: {numbers}\")\n",
        "    print(f\"Their sum is {sum(numbers)}\")\n",
        "except FileNotFoundError:\n",
        "    print(\"File not found. Please ensure 'multiple_inputs.txt' exists.\")\n",
        "except ValueError:\n",
        "    print(\"File contains invalid data. Please ensure all lines have integers.\")\n",
        "\"\"\"\n",
        "}\n",
        "\n",
        "for filename, content in versions.items():\n",
        "    with open(filename, \"w\") as file:\n",
        "\n",
        "        file.write(content)\n",
        "    print(f\"Saved {filename}\")\n"
      ],
      "metadata": {
        "colab": {
          "base_uri": "https://localhost:8080/"
        },
        "id": "MHkncvBf3Hcp",
        "outputId": "02836948-3cae-423c-e1b5-3bb0609d180a"
      },
      "execution_count": null,
      "outputs": [
        {
          "output_type": "stream",
          "name": "stdout",
          "text": [
            "Saved hardcoded.py\n",
            "Saved keyboard_input.py\n",
            "Saved single_input.py\n",
            "Saved multiple_inputs.py\n"
          ]
        }
      ]
    },
    {
      "cell_type": "code",
      "source": [
        "!git remote add origin https://github.com/Madanika12/Colabprograms.git\n",
        "!git branch -M main\n",
        "!git push -u origin main"
      ],
      "metadata": {
        "colab": {
          "base_uri": "https://localhost:8080/"
        },
        "id": "VsSNO-tg4WEd",
        "outputId": "e06aad2c-df4d-464f-a5fb-4dba6a6c1276"
      },
      "execution_count": null,
      "outputs": [
        {
          "output_type": "stream",
          "name": "stdout",
          "text": [
            "fatal: not a git repository (or any of the parent directories): .git\n",
            "fatal: not a git repository (or any of the parent directories): .git\n",
            "fatal: not a git repository (or any of the parent directories): .git\n"
          ]
        }
      ]
    },
    {
      "cell_type": "code",
      "source": [
        "!apt-get install git\n"
      ],
      "metadata": {
        "colab": {
          "base_uri": "https://localhost:8080/"
        },
        "id": "5oQqw0ao8X-F",
        "outputId": "636f90ac-3c4d-4930-a3a9-7095cd7e4ebb"
      },
      "execution_count": null,
      "outputs": [
        {
          "output_type": "stream",
          "name": "stdout",
          "text": [
            "Reading package lists... Done\n",
            "Building dependency tree... Done\n",
            "Reading state information... Done\n",
            "git is already the newest version (1:2.34.1-1ubuntu1.11).\n",
            "0 upgraded, 0 newly installed, 0 to remove and 49 not upgraded.\n"
          ]
        }
      ]
    },
    {
      "cell_type": "code",
      "source": [
        "!git config --global user.email \"madanikareddy09@gmail.com\"\n",
        "!git config --global user.name \"Madanika12\""
      ],
      "metadata": {
        "id": "xDhAcPcC7ENH"
      },
      "execution_count": 5,
      "outputs": []
    },
    {
      "cell_type": "code",
      "source": [
        "!git clone https://github.com/Madanika12/Colabprograms.git"
      ],
      "metadata": {
        "colab": {
          "base_uri": "https://localhost:8080/"
        },
        "id": "76gaXi0Z8GcW",
        "outputId": "deb52a42-8f52-4d54-85cf-1d8cb2309554"
      },
      "execution_count": 7,
      "outputs": [
        {
          "output_type": "stream",
          "name": "stdout",
          "text": [
            "fatal: destination path 'Colabprograms' already exists and is not an empty directory.\n"
          ]
        }
      ]
    }
  ]
}