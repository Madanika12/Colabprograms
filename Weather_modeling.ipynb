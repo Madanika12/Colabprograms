{
  "nbformat": 4,
  "nbformat_minor": 0,
  "metadata": {
    "colab": {
      "provenance": [],
      "authorship_tag": "ABX9TyMP1bs8hQ5Mij89h8I2Rp/H",
      "include_colab_link": true
    },
    "kernelspec": {
      "name": "python3",
      "display_name": "Python 3"
    },
    "language_info": {
      "name": "python"
    }
  },
  "cells": [
    {
      "cell_type": "markdown",
      "metadata": {
        "id": "view-in-github",
        "colab_type": "text"
      },
      "source": [
        "<a href=\"https://colab.research.google.com/github/Madanika12/Colabprograms/blob/main/Weather_modeling.ipynb\" target=\"_parent\"><img src=\"https://colab.research.google.com/assets/colab-badge.svg\" alt=\"Open In Colab\"/></a>"
      ]
    },
    {
      "cell_type": "code",
      "source": [
        "def calculate_temperature(a, b, c, time):\n",
        "    return a * (time ** 2) + b * time + c"
      ],
      "metadata": {
        "id": "RwJ0uDFc6jTn"
      },
      "execution_count": 2,
      "outputs": []
    },
    {
      "cell_type": "code",
      "source": [
        "#Hardcorded variables\n",
        "a, b, c = 1, -2, 1\n",
        "time = 5\n",
        "print(f\"Temperature: {calculate_temperature(a, b, c, time)}\")"
      ],
      "metadata": {
        "colab": {
          "base_uri": "https://localhost:8080/"
        },
        "id": "tHq6lb6R6k8a",
        "outputId": "374ae1fe-bf8b-4c3b-a17b-609e8c0b588c"
      },
      "execution_count": 3,
      "outputs": [
        {
          "output_type": "stream",
          "name": "stdout",
          "text": [
            "Temperature: 16\n"
          ]
        }
      ]
    },
    {
      "cell_type": "code",
      "source": [
        "#Read from file\n",
        "input_file = \"input.txt\"\n",
        "try:\n",
        "    with open(input_file, 'r') as file:\n",
        "        line = file.readline()\n",
        "        a, b, c, time = map(float, line.split()) temperature = calculate_temperature(a, b, c, time)\n",
        "\n",
        "        # Display the result\n",
        "        print(f\"For a={a}, b={b}, c={c}, time={time} -> Temperature: {temperature}\")\n",
        "except FileNotFoundError:\n",
        "    print(f\"Error: File '{input_file}' not found. Please ensure it exists.\")\n",
        "except ValueError:\n",
        "    print(\"Error: Invalid format in file. Ensure the file contains four numbers (a, b, c, time).\")\n"
      ],
      "metadata": {
        "id": "9HIwIn8C-RNb"
      },
      "execution_count": null,
      "outputs": []
    },
    {
      "cell_type": "code",
      "source": [
        "#Keyboard Input\n",
        "a = float(input(\"Enter coefficient a: \"))\n",
        "b = float(input(\"Enter coefficient b: \"))\n",
        "c = float(input(\"Enter coefficient c: \"))\n",
        "time = float(input(\"Enter time: \"))\n",
        "print(f\"Temperature: {calculate_temperature(a, b, c, time)}\")"
      ],
      "metadata": {
        "colab": {
          "base_uri": "https://localhost:8080/"
        },
        "id": "Mybqu7Je7Jny",
        "outputId": "611e8bf2-ef14-49a8-a5f7-51ce29ab2c87"
      },
      "execution_count": 4,
      "outputs": [
        {
          "output_type": "stream",
          "name": "stdout",
          "text": [
            "Enter coefficient a: 12\n",
            "Enter coefficient b: 2\n",
            "Enter coefficient c: 3\n",
            "Enter time: 5\n",
            "Temperature: 313.0\n"
          ]
        }
      ]
    },
    {
      "cell_type": "code",
      "source": [
        "def read_from_file(filename):\n",
        "    with open(filename, 'r') as file:\n",
        "        lines = file.readlines()\n",
        "    coefficients = [tuple(map(float, line.strip().split(','))) for line in lines]\n",
        "    return coefficients"
      ],
      "metadata": {
        "id": "JwE2fiHs-_J9"
      },
      "execution_count": 7,
      "outputs": []
    },
    {
      "cell_type": "code",
      "source": [
        "#Solve for a single set of inputs\n",
        "coefficients = read_from_file('/content/input.txt')\n",
        "a, b, c, time = coefficients[5]\n",
        "temperature = calculate_temperature(a, b, c, time)\n",
        "print(\"Read from a file for weather modeling\")\n",
        "print(\"Temperature from keyboard coefficients at time\", time, \"hours:\", temperature)"
      ],
      "metadata": {
        "colab": {
          "base_uri": "https://localhost:8080/",
          "height": 228
        },
        "id": "50Ov7y7tAlqM",
        "outputId": "476415c6-469d-4093-e2e6-fb80af0f0b49"
      },
      "execution_count": 24,
      "outputs": [
        {
          "output_type": "stream",
          "name": "stdout",
          "text": [
            "Error converting line '' to float: could not convert string to float: ''\n"
          ]
        },
        {
          "output_type": "error",
          "ename": "IndexError",
          "evalue": "list index out of range",
          "traceback": [
            "\u001b[0;31m---------------------------------------------------------------------------\u001b[0m",
            "\u001b[0;31mIndexError\u001b[0m                                Traceback (most recent call last)",
            "\u001b[0;32m<ipython-input-24-e8875d193716>\u001b[0m in \u001b[0;36m<cell line: 3>\u001b[0;34m()\u001b[0m\n\u001b[1;32m      1\u001b[0m \u001b[0;31m#Solve for a single set of inputs\u001b[0m\u001b[0;34m\u001b[0m\u001b[0;34m\u001b[0m\u001b[0m\n\u001b[1;32m      2\u001b[0m \u001b[0mcoefficients\u001b[0m \u001b[0;34m=\u001b[0m \u001b[0mread_from_file\u001b[0m\u001b[0;34m(\u001b[0m\u001b[0;34m'/content/input.txt'\u001b[0m\u001b[0;34m)\u001b[0m\u001b[0;34m\u001b[0m\u001b[0;34m\u001b[0m\u001b[0m\n\u001b[0;32m----> 3\u001b[0;31m \u001b[0ma\u001b[0m\u001b[0;34m,\u001b[0m \u001b[0mb\u001b[0m\u001b[0;34m,\u001b[0m \u001b[0mc\u001b[0m\u001b[0;34m,\u001b[0m \u001b[0mtime\u001b[0m \u001b[0;34m=\u001b[0m \u001b[0mcoefficients\u001b[0m\u001b[0;34m[\u001b[0m\u001b[0;36m5\u001b[0m\u001b[0;34m]\u001b[0m\u001b[0;34m\u001b[0m\u001b[0;34m\u001b[0m\u001b[0m\n\u001b[0m\u001b[1;32m      4\u001b[0m \u001b[0mtemperature\u001b[0m \u001b[0;34m=\u001b[0m \u001b[0mcalculate_temperature\u001b[0m\u001b[0;34m(\u001b[0m\u001b[0ma\u001b[0m\u001b[0;34m,\u001b[0m \u001b[0mb\u001b[0m\u001b[0;34m,\u001b[0m \u001b[0mc\u001b[0m\u001b[0;34m,\u001b[0m \u001b[0mtime\u001b[0m\u001b[0;34m)\u001b[0m\u001b[0;34m\u001b[0m\u001b[0;34m\u001b[0m\u001b[0m\n\u001b[1;32m      5\u001b[0m \u001b[0mprint\u001b[0m\u001b[0;34m(\u001b[0m\u001b[0;34m\"Read from a file for weather modeling\"\u001b[0m\u001b[0;34m)\u001b[0m\u001b[0;34m\u001b[0m\u001b[0;34m\u001b[0m\u001b[0m\n",
            "\u001b[0;31mIndexError\u001b[0m: list index out of range"
          ]
        }
      ]
    },
    {
      "cell_type": "code",
      "source": [
        "# Solve for all sets in the file\n",
        "for idx, (a, b, c, time) in enumerate(coefficients):\n",
        "    temperature = calculate_temperature(a, b, c, time)\n",
        "    print(f\"Temperature from file coefficients at time {time} hours: {temperature}\")"
      ],
      "metadata": {
        "colab": {
          "base_uri": "https://localhost:8080/"
        },
        "id": "Z75lD7EbDLZ2",
        "outputId": "885e4575-cb33-4165-f37a-56a23e369be0"
      },
      "execution_count": 15,
      "outputs": [
        {
          "output_type": "stream",
          "name": "stdout",
          "text": [
            "Temperature from file coefficients at time 1.0 hours: 10.0\n"
          ]
        }
      ]
    },
    {
      "cell_type": "code",
      "source": [],
      "metadata": {
        "id": "o-T69abBGvBp"
      },
      "execution_count": null,
      "outputs": []
    }
  ]
}